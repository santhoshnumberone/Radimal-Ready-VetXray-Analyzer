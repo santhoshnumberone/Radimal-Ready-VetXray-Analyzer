{
 "cells": [
  {
   "cell_type": "markdown",
   "id": "58daae10-39bd-435d-94c3-f004983b48b5",
   "metadata": {},
   "source": [
    "Dog data\n",
    "https://data.mendeley.com/datasets/ktx4cj55pn/1\n",
    "https://www.imaios.com/en/vet-anatomy/dog/dog-osteology\n",
    "\n",
    "Chest data\n",
    "https://www.kaggle.com/datasets/nih-chest-xrays/data?select=Data_Entry_2017.csv\n",
    "\n",
    "Random chest data\n",
    "https://www.kaggle.com/datasets/nih-chest-xrays/sample?resource=download"
   ]
  },
  {
   "cell_type": "markdown",
   "id": "f97c3c14-d2fc-46d5-aae9-1aaa634e9bfe",
   "metadata": {},
   "source": [
    "###### Importing Libraries"
   ]
  },
  {
   "cell_type": "markdown",
   "id": "431ca25c-b7e6-4a3d-9d58-7a2d2ee4a3a9",
   "metadata": {},
   "source": [
    "###### Import Libraries: Import the necessary libraries for data handling and visualization."
   ]
  },
  {
   "cell_type": "code",
   "execution_count": 1,
   "id": "1bbd2a83-de86-4950-9b35-4eda30533081",
   "metadata": {},
   "outputs": [],
   "source": [
    "import pandas as pd\n",
    "import os"
   ]
  },
  {
   "cell_type": "markdown",
   "id": "04da8da0-55f3-4333-924f-8721b83bd71a",
   "metadata": {},
   "source": [
    "###### Define Paths: Define the paths to your CSV and image folder."
   ]
  },
  {
   "cell_type": "code",
   "execution_count": 21,
   "id": "3bdc2f5f-e9ed-49a8-b12d-eb4dd0b853f0",
   "metadata": {},
   "outputs": [],
   "source": [
    "# IMPORTANT: Use the correct file name here\n",
    "csv_path = '../data/sample_labels.csv'\n",
    "images_dir = '../data/images' # Assuming images are directly in the data folder. Adjust if they are in a subfolder."
   ]
  },
  {
   "cell_type": "markdown",
   "id": "8b93f6e5-9563-463b-a3ca-d0470bf7c527",
   "metadata": {},
   "source": [
    "###### Load CSV: Load the sample_labels.csv file into a Pandas DataFrame."
   ]
  },
  {
   "cell_type": "code",
   "execution_count": 22,
   "id": "c58c1730-9332-453a-ab28-5e833e5db77b",
   "metadata": {},
   "outputs": [
    {
     "name": "stdout",
     "output_type": "stream",
     "text": [
      "        Image Index                                     Finding Labels  \\\n",
      "0  00000013_005.png  Emphysema|Infiltration|Pleural_Thickening|Pneu...   \n",
      "1  00000013_026.png                             Cardiomegaly|Emphysema   \n",
      "2  00000017_001.png                                         No Finding   \n",
      "3  00000030_001.png                                        Atelectasis   \n",
      "4  00000032_001.png                        Cardiomegaly|Edema|Effusion   \n",
      "\n",
      "   Follow-up #  Patient ID Patient Age Patient Gender View Position  \\\n",
      "0            5          13        060Y              M            AP   \n",
      "1           26          13        057Y              M            AP   \n",
      "2            1          17        077Y              M            AP   \n",
      "3            1          30        079Y              M            PA   \n",
      "4            1          32        055Y              F            AP   \n",
      "\n",
      "   OriginalImageWidth  OriginalImageHeight  OriginalImagePixelSpacing_x  \\\n",
      "0                3056                 2544                        0.139   \n",
      "1                2500                 2048                        0.168   \n",
      "2                2500                 2048                        0.168   \n",
      "3                2992                 2991                        0.143   \n",
      "4                2500                 2048                        0.168   \n",
      "\n",
      "   OriginalImagePixelSpacing_y  \n",
      "0                        0.139  \n",
      "1                        0.168  \n",
      "2                        0.168  \n",
      "3                        0.143  \n",
      "4                        0.168  \n"
     ]
    }
   ],
   "source": [
    "df = pd.read_csv(csv_path)\n",
    "print(df.head())"
   ]
  },
  {
   "cell_type": "markdown",
   "id": "30bc8156-9740-4837-baa6-093d6ea2d33a",
   "metadata": {},
   "source": [
    "###### Data Cleaning & Binary Labeling:\n",
    "- Create a new is_abnormal column.\n",
    "- Use .loc to set the value to 0 for rows where Finding Labels is 'No Finding'.\n",
    "- Set all other rows to 1."
   ]
  },
  {
   "cell_type": "code",
   "execution_count": 23,
   "id": "3c5e301b-79a8-4749-8433-e21d6d2e461c",
   "metadata": {},
   "outputs": [
    {
     "name": "stdout",
     "output_type": "stream",
     "text": [
      "is_abnormal\n",
      "0    3044\n",
      "1    2562\n",
      "Name: count, dtype: int64\n"
     ]
    }
   ],
   "source": [
    "df['is_abnormal'] = 1\n",
    "df.loc[df['Finding Labels'] == 'No Finding', 'is_abnormal'] = 0\n",
    "print(df['is_abnormal'].value_counts())"
   ]
  },
  {
   "cell_type": "markdown",
   "id": "d7a2b18b-f755-43bd-8b58-bb15e4860e08",
   "metadata": {},
   "source": [
    "###### Create Two Datasets:\n",
    "- Images Dataset: Create a DataFrame that links the image filenames to the new is_abnormal label."
   ]
  },
  {
   "cell_type": "code",
   "execution_count": 24,
   "id": "706f3ff3-817f-4015-a764-4bfe1d69cd95",
   "metadata": {},
   "outputs": [
    {
     "name": "stdout",
     "output_type": "stream",
     "text": [
      "                       Image Index  is_abnormal\n",
      "0  ../data/images/00000013_005.png            1\n",
      "1  ../data/images/00000013_026.png            1\n",
      "2  ../data/images/00000017_001.png            0\n",
      "3  ../data/images/00000030_001.png            1\n",
      "4  ../data/images/00000032_001.png            1\n"
     ]
    }
   ],
   "source": [
    "image_data = df[['Image Index', 'is_abnormal']].copy()\n",
    "image_data['Image Index'] = image_data['Image Index'].apply(lambda x: os.path.join(images_dir, x))\n",
    "print(image_data.head())"
   ]
  },
  {
   "cell_type": "markdown",
   "id": "94677e46-1dba-4e7d-9500-604191f492c3",
   "metadata": {},
   "source": [
    "- Structured Data: Create a separate DataFrame for the structured features."
   ]
  },
  {
   "cell_type": "code",
   "execution_count": 25,
   "id": "97139935-0c1f-4d07-a614-36c7455ebe0e",
   "metadata": {},
   "outputs": [
    {
     "name": "stdout",
     "output_type": "stream",
     "text": [
      "  Patient Age Patient Gender  is_abnormal\n",
      "0        060Y              M            1\n",
      "1        057Y              M            1\n",
      "2        077Y              M            0\n",
      "3        079Y              M            1\n",
      "4        055Y              F            1\n"
     ]
    }
   ],
   "source": [
    "structured_data = df[['Patient Age', 'Patient Gender', 'is_abnormal']].copy()\n",
    "print(structured_data.head())"
   ]
  },
  {
   "cell_type": "markdown",
   "id": "d7909f92-4b6e-4497-8bf6-9acc8c6e5797",
   "metadata": {},
   "source": [
    "Vision Model Training (PyTorch)\n",
    "1. Import Libraries: Add PyTorch and torchvision imports."
   ]
  },
  {
   "cell_type": "code",
   "execution_count": 26,
   "id": "f1324ea5-d3da-4d5b-8424-ae4332fe1ab9",
   "metadata": {},
   "outputs": [],
   "source": [
    "import torch\n",
    "import torch.nn as nn\n",
    "from torch.utils.data import Dataset, DataLoader\n",
    "from torchvision import models, transforms\n",
    "from PIL import Image"
   ]
  },
  {
   "cell_type": "markdown",
   "id": "5f5824ff-50ae-454a-98d4-2de718f25c76",
   "metadata": {},
   "source": [
    "2. Create a Custom Dataset Class: This is a crucial step for handling your custom data."
   ]
  },
  {
   "cell_type": "code",
   "execution_count": 27,
   "id": "eb84af10-fc32-4555-903f-345826f62998",
   "metadata": {},
   "outputs": [],
   "source": [
    "class XrayDataset(Dataset):\n",
    "    def __init__(self, dataframe, transform=None):\n",
    "        self.dataframe = dataframe\n",
    "        self.transform = transform\n",
    "\n",
    "    def __len__(self):\n",
    "        return len(self.dataframe)\n",
    "\n",
    "    def __getitem__(self, idx):\n",
    "        img_name = self.dataframe.iloc[idx, 0]\n",
    "        image = Image.open(img_name).convert('RGB')\n",
    "        label = self.dataframe.iloc[idx, 1]\n",
    "\n",
    "        if self.transform:\n",
    "            image = self.transform(image)\n",
    "\n",
    "        return image, torch.tensor(label, dtype=torch.float32)"
   ]
  },
  {
   "cell_type": "markdown",
   "id": "cb49da0c-e03c-4f62-8138-9f4e2c2a3efb",
   "metadata": {},
   "source": [
    "3. Define Transforms: Define the transformations for your images."
   ]
  },
  {
   "cell_type": "code",
   "execution_count": 28,
   "id": "552189d7-f328-4aa2-bd78-dea2cdee81ed",
   "metadata": {},
   "outputs": [],
   "source": [
    "transform = transforms.Compose([\n",
    "    transforms.Resize(256),\n",
    "    transforms.CenterCrop(224),\n",
    "    transforms.ToTensor(),\n",
    "    transforms.Normalize(mean=[0.485, 0.456, 0.406], std=[0.229, 0.224, 0.225]),\n",
    "])"
   ]
  },
  {
   "cell_type": "markdown",
   "id": "bb72f9bf-8cbf-4de2-a9e5-6cbc3507af93",
   "metadata": {},
   "source": [
    "4. Instantiate Dataset and DataLoader:"
   ]
  },
  {
   "cell_type": "code",
   "execution_count": 29,
   "id": "66995109-8790-412e-a045-9431f9beb803",
   "metadata": {},
   "outputs": [],
   "source": [
    "dataset = XrayDataset(dataframe=image_data, transform=transform)\n",
    "dataloader = DataLoader(dataset, batch_size=32, shuffle=True)"
   ]
  },
  {
   "cell_type": "markdown",
   "id": "b2a91fee-83f9-46ec-b6cb-11ca39793c99",
   "metadata": {},
   "source": [
    "5. Load Pre-trained Model: Load MobileNetV2 and modify the final layer for binary classification."
   ]
  },
  {
   "cell_type": "code",
   "execution_count": 30,
   "id": "f1fcb1c0-19ad-401e-8dca-57816c3fbcf4",
   "metadata": {},
   "outputs": [
    {
     "name": "stdout",
     "output_type": "stream",
     "text": [
      "Using device: mps\n"
     ]
    }
   ],
   "source": [
    "model = models.mobilenet_v2(weights='DEFAULT')\n",
    "model.classifier[1] = nn.Linear(model.classifier[1].in_features, 1)\n",
    "\n",
    "# Check for MPS (M1 GPU) and move the model to it\n",
    "device = torch.device(\"mps\" if torch.backends.mps.is_available() else \"cpu\")\n",
    "model.to(device)\n",
    "print(f\"Using device: {device}\")"
   ]
  },
  {
   "cell_type": "markdown",
   "id": "729ee791-f13e-4620-802b-605b1aafbbe9",
   "metadata": {},
   "source": [
    "Train the Model (Simplified): This is a simplified training loop for a proof-of-concept."
   ]
  },
  {
   "cell_type": "code",
   "execution_count": 31,
   "id": "8e550202-face-412f-90df-d3d64ac9736d",
   "metadata": {},
   "outputs": [
    {
     "name": "stdout",
     "output_type": "stream",
     "text": [
      "Epoch 1, Loss: 0.8526185154914856\n"
     ]
    }
   ],
   "source": [
    "criterion = nn.BCEWithLogitsLoss()\n",
    "optimizer = torch.optim.Adam(model.parameters(), lr=0.001)\n",
    "\n",
    "for epoch in range(1): # Train for 1 epoch for the MVP\n",
    "    for images, labels in dataloader:\n",
    "        images, labels = images.to(device), labels.to(device)\n",
    "\n",
    "        optimizer.zero_grad()\n",
    "        outputs = model(images)\n",
    "        loss = criterion(outputs.squeeze(), labels)\n",
    "        loss.backward()\n",
    "        optimizer.step()\n",
    "\n",
    "    print(f\"Epoch {epoch+1}, Loss: {loss.item()}\")"
   ]
  },
  {
   "cell_type": "code",
   "execution_count": null,
   "id": "6ce7c523-80b6-4d44-a109-9c99b221b157",
   "metadata": {},
   "outputs": [],
   "source": []
  }
 ],
 "metadata": {
  "kernelspec": {
   "display_name": "Python 3 (ipykernel)",
   "language": "python",
   "name": "python3"
  },
  "language_info": {
   "codemirror_mode": {
    "name": "ipython",
    "version": 3
   },
   "file_extension": ".py",
   "mimetype": "text/x-python",
   "name": "python",
   "nbconvert_exporter": "python",
   "pygments_lexer": "ipython3",
   "version": "3.10.18"
  }
 },
 "nbformat": 4,
 "nbformat_minor": 5
}
